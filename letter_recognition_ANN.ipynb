{
  "nbformat": 4,
  "nbformat_minor": 0,
  "metadata": {
    "colab": {
      "provenance": [],
      "authorship_tag": "ABX9TyPcKdudIq25OAsJQBQrP9zD",
      "include_colab_link": true
    },
    "kernelspec": {
      "name": "python3",
      "display_name": "Python 3"
    },
    "language_info": {
      "name": "python"
    }
  },
  "cells": [
    {
      "cell_type": "markdown",
      "metadata": {
        "id": "view-in-github",
        "colab_type": "text"
      },
      "source": [
        "<a href=\"https://colab.research.google.com/github/sanjay-dutta/100-Days-of-Python/blob/main/letter_recognition_ANN.ipynb\" target=\"_parent\"><img src=\"https://colab.research.google.com/assets/colab-badge.svg\" alt=\"Open In Colab\"/></a>"
      ]
    },
    {
      "cell_type": "code",
      "execution_count": 2,
      "metadata": {
        "id": "qxkWn09ItIfH"
      },
      "outputs": [],
      "source": [
        "import pandas as pd\n",
        "import numpy as np\n",
        "import seaborn as sns\n",
        "import tensorflow as tf\n",
        "import matplotlib.pyplot as plt\n",
        "from sklearn.model_selection import train_test_split\n",
        "from sklearn.preprocessing import StandardScaler\n",
        "from sklearn.preprocessing import LabelEncoder\n",
        "from tensorflow.keras.callbacks import EarlyStopping\n",
        "from sklearn.model_selection import StratifiedKFold"
      ]
    },
    {
      "cell_type": "code",
      "source": [
        "# Mount Google Drive\n",
        "from google.colab import drive\n",
        "drive.mount('/content/drive')"
      ],
      "metadata": {
        "colab": {
          "base_uri": "https://localhost:8080/"
        },
        "id": "_oK7uMtLSOL2",
        "outputId": "b916d584-be18-4315-9409-3e48e4834f38"
      },
      "execution_count": 3,
      "outputs": [
        {
          "output_type": "stream",
          "name": "stdout",
          "text": [
            "Mounted at /content/drive\n"
          ]
        }
      ]
    },
    {
      "cell_type": "code",
      "source": [
        "# Update the path to the dataset file in your Google Drive\n",
        "dataset_path = '/content/drive/MyDrive/Dataset/letter-recognition.csv'"
      ],
      "metadata": {
        "id": "JZ81CiwZSZlK"
      },
      "execution_count": 4,
      "outputs": []
    },
    {
      "cell_type": "code",
      "source": [
        "ann_data = pd.read_csv(\"/content/drive/MyDrive/Dataset/letter-recognition.csv\")\n",
        "ann_data.head()"
      ],
      "metadata": {
        "colab": {
          "base_uri": "https://localhost:8080/",
          "height": 206
        },
        "id": "g-FzX4fWuqYv",
        "outputId": "4fe15b6b-bbb1-48c9-e4d2-c2e8ec87d69e"
      },
      "execution_count": 5,
      "outputs": [
        {
          "output_type": "execute_result",
          "data": {
            "text/plain": [
              "   T  2   8  3  5  1  8.1  13  0  6  6.1  10  8.2  0.1  8.3  0.2  8.4\n",
              "0  I  5  12  3  7  2   10   5  5  4   13   3    9    2    8    4   10\n",
              "1  D  4  11  6  8  6   10   6  2  6   10   3    7    3    7    3    9\n",
              "2  N  7  11  6  6  3    5   9  4  6    4   4   10    6   10    2    8\n",
              "3  G  2   1  3  1  1    8   6  6  6    6   5    9    1    7    5   10\n",
              "4  S  4  11  5  8  3    8   8  6  9    5   6    6    0    8    9    7"
            ],
            "text/html": [
              "\n",
              "  <div id=\"df-86aab523-6c1e-41f2-8150-e0a55a7ce060\" class=\"colab-df-container\">\n",
              "    <div>\n",
              "<style scoped>\n",
              "    .dataframe tbody tr th:only-of-type {\n",
              "        vertical-align: middle;\n",
              "    }\n",
              "\n",
              "    .dataframe tbody tr th {\n",
              "        vertical-align: top;\n",
              "    }\n",
              "\n",
              "    .dataframe thead th {\n",
              "        text-align: right;\n",
              "    }\n",
              "</style>\n",
              "<table border=\"1\" class=\"dataframe\">\n",
              "  <thead>\n",
              "    <tr style=\"text-align: right;\">\n",
              "      <th></th>\n",
              "      <th>T</th>\n",
              "      <th>2</th>\n",
              "      <th>8</th>\n",
              "      <th>3</th>\n",
              "      <th>5</th>\n",
              "      <th>1</th>\n",
              "      <th>8.1</th>\n",
              "      <th>13</th>\n",
              "      <th>0</th>\n",
              "      <th>6</th>\n",
              "      <th>6.1</th>\n",
              "      <th>10</th>\n",
              "      <th>8.2</th>\n",
              "      <th>0.1</th>\n",
              "      <th>8.3</th>\n",
              "      <th>0.2</th>\n",
              "      <th>8.4</th>\n",
              "    </tr>\n",
              "  </thead>\n",
              "  <tbody>\n",
              "    <tr>\n",
              "      <th>0</th>\n",
              "      <td>I</td>\n",
              "      <td>5</td>\n",
              "      <td>12</td>\n",
              "      <td>3</td>\n",
              "      <td>7</td>\n",
              "      <td>2</td>\n",
              "      <td>10</td>\n",
              "      <td>5</td>\n",
              "      <td>5</td>\n",
              "      <td>4</td>\n",
              "      <td>13</td>\n",
              "      <td>3</td>\n",
              "      <td>9</td>\n",
              "      <td>2</td>\n",
              "      <td>8</td>\n",
              "      <td>4</td>\n",
              "      <td>10</td>\n",
              "    </tr>\n",
              "    <tr>\n",
              "      <th>1</th>\n",
              "      <td>D</td>\n",
              "      <td>4</td>\n",
              "      <td>11</td>\n",
              "      <td>6</td>\n",
              "      <td>8</td>\n",
              "      <td>6</td>\n",
              "      <td>10</td>\n",
              "      <td>6</td>\n",
              "      <td>2</td>\n",
              "      <td>6</td>\n",
              "      <td>10</td>\n",
              "      <td>3</td>\n",
              "      <td>7</td>\n",
              "      <td>3</td>\n",
              "      <td>7</td>\n",
              "      <td>3</td>\n",
              "      <td>9</td>\n",
              "    </tr>\n",
              "    <tr>\n",
              "      <th>2</th>\n",
              "      <td>N</td>\n",
              "      <td>7</td>\n",
              "      <td>11</td>\n",
              "      <td>6</td>\n",
              "      <td>6</td>\n",
              "      <td>3</td>\n",
              "      <td>5</td>\n",
              "      <td>9</td>\n",
              "      <td>4</td>\n",
              "      <td>6</td>\n",
              "      <td>4</td>\n",
              "      <td>4</td>\n",
              "      <td>10</td>\n",
              "      <td>6</td>\n",
              "      <td>10</td>\n",
              "      <td>2</td>\n",
              "      <td>8</td>\n",
              "    </tr>\n",
              "    <tr>\n",
              "      <th>3</th>\n",
              "      <td>G</td>\n",
              "      <td>2</td>\n",
              "      <td>1</td>\n",
              "      <td>3</td>\n",
              "      <td>1</td>\n",
              "      <td>1</td>\n",
              "      <td>8</td>\n",
              "      <td>6</td>\n",
              "      <td>6</td>\n",
              "      <td>6</td>\n",
              "      <td>6</td>\n",
              "      <td>5</td>\n",
              "      <td>9</td>\n",
              "      <td>1</td>\n",
              "      <td>7</td>\n",
              "      <td>5</td>\n",
              "      <td>10</td>\n",
              "    </tr>\n",
              "    <tr>\n",
              "      <th>4</th>\n",
              "      <td>S</td>\n",
              "      <td>4</td>\n",
              "      <td>11</td>\n",
              "      <td>5</td>\n",
              "      <td>8</td>\n",
              "      <td>3</td>\n",
              "      <td>8</td>\n",
              "      <td>8</td>\n",
              "      <td>6</td>\n",
              "      <td>9</td>\n",
              "      <td>5</td>\n",
              "      <td>6</td>\n",
              "      <td>6</td>\n",
              "      <td>0</td>\n",
              "      <td>8</td>\n",
              "      <td>9</td>\n",
              "      <td>7</td>\n",
              "    </tr>\n",
              "  </tbody>\n",
              "</table>\n",
              "</div>\n",
              "    <div class=\"colab-df-buttons\">\n",
              "\n",
              "  <div class=\"colab-df-container\">\n",
              "    <button class=\"colab-df-convert\" onclick=\"convertToInteractive('df-86aab523-6c1e-41f2-8150-e0a55a7ce060')\"\n",
              "            title=\"Convert this dataframe to an interactive table.\"\n",
              "            style=\"display:none;\">\n",
              "\n",
              "  <svg xmlns=\"http://www.w3.org/2000/svg\" height=\"24px\" viewBox=\"0 -960 960 960\">\n",
              "    <path d=\"M120-120v-720h720v720H120Zm60-500h600v-160H180v160Zm220 220h160v-160H400v160Zm0 220h160v-160H400v160ZM180-400h160v-160H180v160Zm440 0h160v-160H620v160ZM180-180h160v-160H180v160Zm440 0h160v-160H620v160Z\"/>\n",
              "  </svg>\n",
              "    </button>\n",
              "\n",
              "  <style>\n",
              "    .colab-df-container {\n",
              "      display:flex;\n",
              "      gap: 12px;\n",
              "    }\n",
              "\n",
              "    .colab-df-convert {\n",
              "      background-color: #E8F0FE;\n",
              "      border: none;\n",
              "      border-radius: 50%;\n",
              "      cursor: pointer;\n",
              "      display: none;\n",
              "      fill: #1967D2;\n",
              "      height: 32px;\n",
              "      padding: 0 0 0 0;\n",
              "      width: 32px;\n",
              "    }\n",
              "\n",
              "    .colab-df-convert:hover {\n",
              "      background-color: #E2EBFA;\n",
              "      box-shadow: 0px 1px 2px rgba(60, 64, 67, 0.3), 0px 1px 3px 1px rgba(60, 64, 67, 0.15);\n",
              "      fill: #174EA6;\n",
              "    }\n",
              "\n",
              "    .colab-df-buttons div {\n",
              "      margin-bottom: 4px;\n",
              "    }\n",
              "\n",
              "    [theme=dark] .colab-df-convert {\n",
              "      background-color: #3B4455;\n",
              "      fill: #D2E3FC;\n",
              "    }\n",
              "\n",
              "    [theme=dark] .colab-df-convert:hover {\n",
              "      background-color: #434B5C;\n",
              "      box-shadow: 0px 1px 3px 1px rgba(0, 0, 0, 0.15);\n",
              "      filter: drop-shadow(0px 1px 2px rgba(0, 0, 0, 0.3));\n",
              "      fill: #FFFFFF;\n",
              "    }\n",
              "  </style>\n",
              "\n",
              "    <script>\n",
              "      const buttonEl =\n",
              "        document.querySelector('#df-86aab523-6c1e-41f2-8150-e0a55a7ce060 button.colab-df-convert');\n",
              "      buttonEl.style.display =\n",
              "        google.colab.kernel.accessAllowed ? 'block' : 'none';\n",
              "\n",
              "      async function convertToInteractive(key) {\n",
              "        const element = document.querySelector('#df-86aab523-6c1e-41f2-8150-e0a55a7ce060');\n",
              "        const dataTable =\n",
              "          await google.colab.kernel.invokeFunction('convertToInteractive',\n",
              "                                                    [key], {});\n",
              "        if (!dataTable) return;\n",
              "\n",
              "        const docLinkHtml = 'Like what you see? Visit the ' +\n",
              "          '<a target=\"_blank\" href=https://colab.research.google.com/notebooks/data_table.ipynb>data table notebook</a>'\n",
              "          + ' to learn more about interactive tables.';\n",
              "        element.innerHTML = '';\n",
              "        dataTable['output_type'] = 'display_data';\n",
              "        await google.colab.output.renderOutput(dataTable, element);\n",
              "        const docLink = document.createElement('div');\n",
              "        docLink.innerHTML = docLinkHtml;\n",
              "        element.appendChild(docLink);\n",
              "      }\n",
              "    </script>\n",
              "  </div>\n",
              "\n",
              "\n",
              "<div id=\"df-5fb7a833-82d4-489d-bfe9-497a649e9615\">\n",
              "  <button class=\"colab-df-quickchart\" onclick=\"quickchart('df-5fb7a833-82d4-489d-bfe9-497a649e9615')\"\n",
              "            title=\"Suggest charts\"\n",
              "            style=\"display:none;\">\n",
              "\n",
              "<svg xmlns=\"http://www.w3.org/2000/svg\" height=\"24px\"viewBox=\"0 0 24 24\"\n",
              "     width=\"24px\">\n",
              "    <g>\n",
              "        <path d=\"M19 3H5c-1.1 0-2 .9-2 2v14c0 1.1.9 2 2 2h14c1.1 0 2-.9 2-2V5c0-1.1-.9-2-2-2zM9 17H7v-7h2v7zm4 0h-2V7h2v10zm4 0h-2v-4h2v4z\"/>\n",
              "    </g>\n",
              "</svg>\n",
              "  </button>\n",
              "\n",
              "<style>\n",
              "  .colab-df-quickchart {\n",
              "      --bg-color: #E8F0FE;\n",
              "      --fill-color: #1967D2;\n",
              "      --hover-bg-color: #E2EBFA;\n",
              "      --hover-fill-color: #174EA6;\n",
              "      --disabled-fill-color: #AAA;\n",
              "      --disabled-bg-color: #DDD;\n",
              "  }\n",
              "\n",
              "  [theme=dark] .colab-df-quickchart {\n",
              "      --bg-color: #3B4455;\n",
              "      --fill-color: #D2E3FC;\n",
              "      --hover-bg-color: #434B5C;\n",
              "      --hover-fill-color: #FFFFFF;\n",
              "      --disabled-bg-color: #3B4455;\n",
              "      --disabled-fill-color: #666;\n",
              "  }\n",
              "\n",
              "  .colab-df-quickchart {\n",
              "    background-color: var(--bg-color);\n",
              "    border: none;\n",
              "    border-radius: 50%;\n",
              "    cursor: pointer;\n",
              "    display: none;\n",
              "    fill: var(--fill-color);\n",
              "    height: 32px;\n",
              "    padding: 0;\n",
              "    width: 32px;\n",
              "  }\n",
              "\n",
              "  .colab-df-quickchart:hover {\n",
              "    background-color: var(--hover-bg-color);\n",
              "    box-shadow: 0 1px 2px rgba(60, 64, 67, 0.3), 0 1px 3px 1px rgba(60, 64, 67, 0.15);\n",
              "    fill: var(--button-hover-fill-color);\n",
              "  }\n",
              "\n",
              "  .colab-df-quickchart-complete:disabled,\n",
              "  .colab-df-quickchart-complete:disabled:hover {\n",
              "    background-color: var(--disabled-bg-color);\n",
              "    fill: var(--disabled-fill-color);\n",
              "    box-shadow: none;\n",
              "  }\n",
              "\n",
              "  .colab-df-spinner {\n",
              "    border: 2px solid var(--fill-color);\n",
              "    border-color: transparent;\n",
              "    border-bottom-color: var(--fill-color);\n",
              "    animation:\n",
              "      spin 1s steps(1) infinite;\n",
              "  }\n",
              "\n",
              "  @keyframes spin {\n",
              "    0% {\n",
              "      border-color: transparent;\n",
              "      border-bottom-color: var(--fill-color);\n",
              "      border-left-color: var(--fill-color);\n",
              "    }\n",
              "    20% {\n",
              "      border-color: transparent;\n",
              "      border-left-color: var(--fill-color);\n",
              "      border-top-color: var(--fill-color);\n",
              "    }\n",
              "    30% {\n",
              "      border-color: transparent;\n",
              "      border-left-color: var(--fill-color);\n",
              "      border-top-color: var(--fill-color);\n",
              "      border-right-color: var(--fill-color);\n",
              "    }\n",
              "    40% {\n",
              "      border-color: transparent;\n",
              "      border-right-color: var(--fill-color);\n",
              "      border-top-color: var(--fill-color);\n",
              "    }\n",
              "    60% {\n",
              "      border-color: transparent;\n",
              "      border-right-color: var(--fill-color);\n",
              "    }\n",
              "    80% {\n",
              "      border-color: transparent;\n",
              "      border-right-color: var(--fill-color);\n",
              "      border-bottom-color: var(--fill-color);\n",
              "    }\n",
              "    90% {\n",
              "      border-color: transparent;\n",
              "      border-bottom-color: var(--fill-color);\n",
              "    }\n",
              "  }\n",
              "</style>\n",
              "\n",
              "  <script>\n",
              "    async function quickchart(key) {\n",
              "      const quickchartButtonEl =\n",
              "        document.querySelector('#' + key + ' button');\n",
              "      quickchartButtonEl.disabled = true;  // To prevent multiple clicks.\n",
              "      quickchartButtonEl.classList.add('colab-df-spinner');\n",
              "      try {\n",
              "        const charts = await google.colab.kernel.invokeFunction(\n",
              "            'suggestCharts', [key], {});\n",
              "      } catch (error) {\n",
              "        console.error('Error during call to suggestCharts:', error);\n",
              "      }\n",
              "      quickchartButtonEl.classList.remove('colab-df-spinner');\n",
              "      quickchartButtonEl.classList.add('colab-df-quickchart-complete');\n",
              "    }\n",
              "    (() => {\n",
              "      let quickchartButtonEl =\n",
              "        document.querySelector('#df-5fb7a833-82d4-489d-bfe9-497a649e9615 button');\n",
              "      quickchartButtonEl.style.display =\n",
              "        google.colab.kernel.accessAllowed ? 'block' : 'none';\n",
              "    })();\n",
              "  </script>\n",
              "</div>\n",
              "    </div>\n",
              "  </div>\n"
            ]
          },
          "metadata": {},
          "execution_count": 5
        }
      ]
    },
    {
      "cell_type": "code",
      "source": [
        "# Extract features and labels\n",
        "X = ann_data.iloc[:, 1:].values  # Assuming the features start from the second column\n",
        "y = ann_data.iloc[:, 0].values"
      ],
      "metadata": {
        "id": "F7PrtnjhvH-z"
      },
      "execution_count": 6,
      "outputs": []
    },
    {
      "cell_type": "code",
      "source": [
        "# Encode labels using LabelEncoder\n",
        "label_encoder = LabelEncoder()\n",
        "y = label_encoder.fit_transform(y)"
      ],
      "metadata": {
        "id": "ALL6P-nvvJzi"
      },
      "execution_count": 7,
      "outputs": []
    },
    {
      "cell_type": "code",
      "source": [
        "# Split the data into training and test sets\n",
        "X_train, X_test, y_train, y_test = train_test_split(X, y, test_size=0.2, random_state=42, stratify=y)"
      ],
      "metadata": {
        "id": "fHRZWK7jimbD"
      },
      "execution_count": 8,
      "outputs": []
    },
    {
      "cell_type": "code",
      "source": [
        "import keras\n",
        "from keras.models import Sequential\n",
        "from keras.layers import Dense"
      ],
      "metadata": {
        "id": "kb6DZwVOvLpS"
      },
      "execution_count": 9,
      "outputs": []
    },
    {
      "cell_type": "code",
      "source": [
        "# Build the ANN model\n",
        "model = tf.keras.models.Sequential([\n",
        "    tf.keras.layers.Dense(64, activation='relu', input_shape=(16,)),  # Update input shape\n",
        "    tf.keras.layers.Dense(32, activation='relu'),\n",
        "    tf.keras.layers.Dense(26, activation='softmax')  # Update the number of classes\n",
        "])"
      ],
      "metadata": {
        "id": "WM7XXeV5vNjq"
      },
      "execution_count": 10,
      "outputs": []
    },
    {
      "cell_type": "code",
      "source": [
        "# Compile the model\n",
        "model.compile(optimizer='adam', loss='sparse_categorical_crossentropy', metrics=['accuracy'])"
      ],
      "metadata": {
        "id": "ye8qm95zvQQh"
      },
      "execution_count": 11,
      "outputs": []
    },
    {
      "cell_type": "code",
      "source": [
        "# Define early stopping callback\n",
        "early_stopping = EarlyStopping(monitor='val_loss', patience=20, restore_best_weights=True)"
      ],
      "metadata": {
        "id": "wtJEA6Ae3xgn"
      },
      "execution_count": 12,
      "outputs": []
    },
    {
      "cell_type": "code",
      "source": [
        "# Train the model\n",
        "ann_model = model.fit(X_train, y_train, epochs=2000, batch_size=8,\n",
        "                      validation_data=(X_test, y_test), callbacks=[early_stopping])"
      ],
      "metadata": {
        "colab": {
          "base_uri": "https://localhost:8080/"
        },
        "id": "GrkaGJpDvULC",
        "outputId": "2f57110b-d405-4aab-b5b4-220f952c68e6"
      },
      "execution_count": 13,
      "outputs": [
        {
          "output_type": "stream",
          "name": "stdout",
          "text": [
            "Epoch 1/2000\n",
            "2000/2000 [==============================] - 3s 1ms/step - loss: 1.6867 - accuracy: 0.5138 - val_loss: 1.0289 - val_accuracy: 0.7045\n",
            "Epoch 2/2000\n",
            "2000/2000 [==============================] - 3s 1ms/step - loss: 0.9354 - accuracy: 0.7281 - val_loss: 0.8449 - val_accuracy: 0.7585\n",
            "Epoch 3/2000\n",
            "2000/2000 [==============================] - 3s 1ms/step - loss: 0.7796 - accuracy: 0.7709 - val_loss: 0.7559 - val_accuracy: 0.7602\n",
            "Epoch 4/2000\n",
            "2000/2000 [==============================] - 3s 2ms/step - loss: 0.6836 - accuracy: 0.7965 - val_loss: 0.6224 - val_accuracy: 0.8087\n",
            "Epoch 5/2000\n",
            "2000/2000 [==============================] - 3s 1ms/step - loss: 0.6094 - accuracy: 0.8162 - val_loss: 0.5672 - val_accuracy: 0.8240\n",
            "Epoch 6/2000\n",
            "2000/2000 [==============================] - 3s 1ms/step - loss: 0.5557 - accuracy: 0.8267 - val_loss: 0.5326 - val_accuracy: 0.8407\n",
            "Epoch 7/2000\n",
            "2000/2000 [==============================] - 3s 1ms/step - loss: 0.5071 - accuracy: 0.8426 - val_loss: 0.4650 - val_accuracy: 0.8525\n",
            "Epoch 8/2000\n",
            "2000/2000 [==============================] - 3s 2ms/step - loss: 0.4690 - accuracy: 0.8541 - val_loss: 0.4648 - val_accuracy: 0.8533\n",
            "Epoch 9/2000\n",
            "2000/2000 [==============================] - 3s 1ms/step - loss: 0.4403 - accuracy: 0.8609 - val_loss: 0.4366 - val_accuracy: 0.8622\n",
            "Epoch 10/2000\n",
            "2000/2000 [==============================] - 3s 1ms/step - loss: 0.4154 - accuracy: 0.8696 - val_loss: 0.3855 - val_accuracy: 0.8813\n",
            "Epoch 11/2000\n",
            "2000/2000 [==============================] - 3s 1ms/step - loss: 0.3980 - accuracy: 0.8718 - val_loss: 0.3571 - val_accuracy: 0.8850\n",
            "Epoch 12/2000\n",
            "2000/2000 [==============================] - 3s 2ms/step - loss: 0.3716 - accuracy: 0.8832 - val_loss: 0.3547 - val_accuracy: 0.8848\n",
            "Epoch 13/2000\n",
            "2000/2000 [==============================] - 3s 1ms/step - loss: 0.3635 - accuracy: 0.8824 - val_loss: 0.3789 - val_accuracy: 0.8795\n",
            "Epoch 14/2000\n",
            "2000/2000 [==============================] - 3s 1ms/step - loss: 0.3455 - accuracy: 0.8883 - val_loss: 0.3338 - val_accuracy: 0.8945\n",
            "Epoch 15/2000\n",
            "2000/2000 [==============================] - 3s 1ms/step - loss: 0.3348 - accuracy: 0.8944 - val_loss: 0.3559 - val_accuracy: 0.8895\n",
            "Epoch 16/2000\n",
            "2000/2000 [==============================] - 3s 2ms/step - loss: 0.3240 - accuracy: 0.8944 - val_loss: 0.3083 - val_accuracy: 0.9018\n",
            "Epoch 17/2000\n",
            "2000/2000 [==============================] - 3s 1ms/step - loss: 0.3085 - accuracy: 0.9014 - val_loss: 0.2974 - val_accuracy: 0.9082\n",
            "Epoch 18/2000\n",
            "2000/2000 [==============================] - 3s 1ms/step - loss: 0.3032 - accuracy: 0.9022 - val_loss: 0.3175 - val_accuracy: 0.8963\n",
            "Epoch 19/2000\n",
            "2000/2000 [==============================] - 3s 1ms/step - loss: 0.2976 - accuracy: 0.9052 - val_loss: 0.2788 - val_accuracy: 0.9095\n",
            "Epoch 20/2000\n",
            "2000/2000 [==============================] - 4s 2ms/step - loss: 0.2881 - accuracy: 0.9047 - val_loss: 0.2709 - val_accuracy: 0.9128\n",
            "Epoch 21/2000\n",
            "2000/2000 [==============================] - 3s 2ms/step - loss: 0.2816 - accuracy: 0.9071 - val_loss: 0.2920 - val_accuracy: 0.9040\n",
            "Epoch 22/2000\n",
            "2000/2000 [==============================] - 3s 1ms/step - loss: 0.2722 - accuracy: 0.9126 - val_loss: 0.2846 - val_accuracy: 0.9100\n",
            "Epoch 23/2000\n",
            "2000/2000 [==============================] - 3s 1ms/step - loss: 0.2696 - accuracy: 0.9102 - val_loss: 0.2865 - val_accuracy: 0.9045\n",
            "Epoch 24/2000\n",
            "2000/2000 [==============================] - 3s 1ms/step - loss: 0.2590 - accuracy: 0.9151 - val_loss: 0.2434 - val_accuracy: 0.9187\n",
            "Epoch 25/2000\n",
            "2000/2000 [==============================] - 3s 2ms/step - loss: 0.2618 - accuracy: 0.9151 - val_loss: 0.2594 - val_accuracy: 0.9172\n",
            "Epoch 26/2000\n",
            "2000/2000 [==============================] - 3s 1ms/step - loss: 0.2503 - accuracy: 0.9191 - val_loss: 0.2718 - val_accuracy: 0.9112\n",
            "Epoch 27/2000\n",
            "2000/2000 [==============================] - 3s 1ms/step - loss: 0.2501 - accuracy: 0.9182 - val_loss: 0.2731 - val_accuracy: 0.9153\n",
            "Epoch 28/2000\n",
            "2000/2000 [==============================] - 3s 1ms/step - loss: 0.2435 - accuracy: 0.9202 - val_loss: 0.2796 - val_accuracy: 0.9145\n",
            "Epoch 29/2000\n",
            "2000/2000 [==============================] - 3s 2ms/step - loss: 0.2339 - accuracy: 0.9223 - val_loss: 0.3122 - val_accuracy: 0.8985\n",
            "Epoch 30/2000\n",
            "2000/2000 [==============================] - 3s 1ms/step - loss: 0.2328 - accuracy: 0.9254 - val_loss: 0.2190 - val_accuracy: 0.9295\n",
            "Epoch 31/2000\n",
            "2000/2000 [==============================] - 3s 1ms/step - loss: 0.2271 - accuracy: 0.9222 - val_loss: 0.2649 - val_accuracy: 0.9147\n",
            "Epoch 32/2000\n",
            "2000/2000 [==============================] - 3s 1ms/step - loss: 0.2278 - accuracy: 0.9262 - val_loss: 0.2240 - val_accuracy: 0.9273\n",
            "Epoch 33/2000\n",
            "2000/2000 [==============================] - 3s 2ms/step - loss: 0.2233 - accuracy: 0.9260 - val_loss: 0.2608 - val_accuracy: 0.9137\n",
            "Epoch 34/2000\n",
            "2000/2000 [==============================] - 2s 1ms/step - loss: 0.2139 - accuracy: 0.9281 - val_loss: 0.2780 - val_accuracy: 0.9120\n",
            "Epoch 35/2000\n",
            "2000/2000 [==============================] - 3s 1ms/step - loss: 0.2168 - accuracy: 0.9277 - val_loss: 0.2375 - val_accuracy: 0.9205\n",
            "Epoch 36/2000\n",
            "2000/2000 [==============================] - 3s 1ms/step - loss: 0.2128 - accuracy: 0.9289 - val_loss: 0.2454 - val_accuracy: 0.9205\n",
            "Epoch 37/2000\n",
            "2000/2000 [==============================] - 3s 1ms/step - loss: 0.2165 - accuracy: 0.9299 - val_loss: 0.2468 - val_accuracy: 0.9200\n",
            "Epoch 38/2000\n",
            "2000/2000 [==============================] - 3s 2ms/step - loss: 0.2090 - accuracy: 0.9294 - val_loss: 0.2695 - val_accuracy: 0.9168\n",
            "Epoch 39/2000\n",
            "2000/2000 [==============================] - 3s 1ms/step - loss: 0.2070 - accuracy: 0.9317 - val_loss: 0.2148 - val_accuracy: 0.9310\n",
            "Epoch 40/2000\n",
            "2000/2000 [==============================] - 3s 1ms/step - loss: 0.2022 - accuracy: 0.9314 - val_loss: 0.2971 - val_accuracy: 0.9100\n",
            "Epoch 41/2000\n",
            "2000/2000 [==============================] - 3s 1ms/step - loss: 0.1984 - accuracy: 0.9346 - val_loss: 0.2709 - val_accuracy: 0.9183\n",
            "Epoch 42/2000\n",
            "2000/2000 [==============================] - 3s 2ms/step - loss: 0.2004 - accuracy: 0.9323 - val_loss: 0.2578 - val_accuracy: 0.9227\n",
            "Epoch 43/2000\n",
            "2000/2000 [==============================] - 3s 1ms/step - loss: 0.2009 - accuracy: 0.9329 - val_loss: 0.2517 - val_accuracy: 0.9230\n",
            "Epoch 44/2000\n",
            "2000/2000 [==============================] - 3s 1ms/step - loss: 0.1977 - accuracy: 0.9341 - val_loss: 0.2192 - val_accuracy: 0.9270\n",
            "Epoch 45/2000\n",
            "2000/2000 [==============================] - 3s 1ms/step - loss: 0.1968 - accuracy: 0.9326 - val_loss: 0.2559 - val_accuracy: 0.9237\n",
            "Epoch 46/2000\n",
            "2000/2000 [==============================] - 3s 2ms/step - loss: 0.1925 - accuracy: 0.9352 - val_loss: 0.2131 - val_accuracy: 0.9302\n",
            "Epoch 47/2000\n",
            "2000/2000 [==============================] - 3s 1ms/step - loss: 0.1894 - accuracy: 0.9348 - val_loss: 0.2413 - val_accuracy: 0.9222\n",
            "Epoch 48/2000\n",
            "2000/2000 [==============================] - 3s 1ms/step - loss: 0.1889 - accuracy: 0.9356 - val_loss: 0.2451 - val_accuracy: 0.9218\n",
            "Epoch 49/2000\n",
            "2000/2000 [==============================] - 3s 1ms/step - loss: 0.1915 - accuracy: 0.9370 - val_loss: 0.2526 - val_accuracy: 0.9235\n",
            "Epoch 50/2000\n",
            "2000/2000 [==============================] - 3s 2ms/step - loss: 0.1923 - accuracy: 0.9352 - val_loss: 0.2823 - val_accuracy: 0.9120\n",
            "Epoch 51/2000\n",
            "2000/2000 [==============================] - 3s 1ms/step - loss: 0.1780 - accuracy: 0.9387 - val_loss: 0.2377 - val_accuracy: 0.9268\n",
            "Epoch 52/2000\n",
            "2000/2000 [==============================] - 3s 1ms/step - loss: 0.1881 - accuracy: 0.9368 - val_loss: 0.3223 - val_accuracy: 0.9003\n",
            "Epoch 53/2000\n",
            "2000/2000 [==============================] - 3s 1ms/step - loss: 0.1821 - accuracy: 0.9399 - val_loss: 0.2282 - val_accuracy: 0.9295\n",
            "Epoch 54/2000\n",
            "2000/2000 [==============================] - 3s 1ms/step - loss: 0.1772 - accuracy: 0.9402 - val_loss: 0.2928 - val_accuracy: 0.9107\n",
            "Epoch 55/2000\n",
            "2000/2000 [==============================] - 3s 1ms/step - loss: 0.1814 - accuracy: 0.9377 - val_loss: 0.2259 - val_accuracy: 0.9270\n",
            "Epoch 56/2000\n",
            "2000/2000 [==============================] - 3s 1ms/step - loss: 0.1736 - accuracy: 0.9415 - val_loss: 0.2272 - val_accuracy: 0.9290\n",
            "Epoch 57/2000\n",
            "2000/2000 [==============================] - 3s 1ms/step - loss: 0.1708 - accuracy: 0.9417 - val_loss: 0.2355 - val_accuracy: 0.9270\n",
            "Epoch 58/2000\n",
            "2000/2000 [==============================] - 3s 1ms/step - loss: 0.1702 - accuracy: 0.9419 - val_loss: 0.2287 - val_accuracy: 0.9258\n",
            "Epoch 59/2000\n",
            "2000/2000 [==============================] - 3s 2ms/step - loss: 0.1768 - accuracy: 0.9402 - val_loss: 0.2147 - val_accuracy: 0.9308\n",
            "Epoch 60/2000\n",
            "2000/2000 [==============================] - 3s 1ms/step - loss: 0.1692 - accuracy: 0.9442 - val_loss: 0.2249 - val_accuracy: 0.9320\n",
            "Epoch 61/2000\n",
            "2000/2000 [==============================] - 2s 1ms/step - loss: 0.1718 - accuracy: 0.9438 - val_loss: 0.2370 - val_accuracy: 0.9260\n",
            "Epoch 62/2000\n",
            "2000/2000 [==============================] - 3s 1ms/step - loss: 0.1645 - accuracy: 0.9424 - val_loss: 0.2255 - val_accuracy: 0.9333\n",
            "Epoch 63/2000\n",
            "2000/2000 [==============================] - 3s 2ms/step - loss: 0.1696 - accuracy: 0.9419 - val_loss: 0.2057 - val_accuracy: 0.9365\n",
            "Epoch 64/2000\n",
            "2000/2000 [==============================] - 3s 1ms/step - loss: 0.1641 - accuracy: 0.9452 - val_loss: 0.2184 - val_accuracy: 0.9273\n",
            "Epoch 65/2000\n",
            "2000/2000 [==============================] - 3s 1ms/step - loss: 0.1693 - accuracy: 0.9436 - val_loss: 0.2295 - val_accuracy: 0.9277\n",
            "Epoch 66/2000\n",
            "2000/2000 [==============================] - 3s 1ms/step - loss: 0.1635 - accuracy: 0.9459 - val_loss: 0.2392 - val_accuracy: 0.9265\n",
            "Epoch 67/2000\n",
            "2000/2000 [==============================] - 3s 1ms/step - loss: 0.1644 - accuracy: 0.9426 - val_loss: 0.2295 - val_accuracy: 0.9262\n",
            "Epoch 68/2000\n",
            "2000/2000 [==============================] - 3s 1ms/step - loss: 0.1572 - accuracy: 0.9474 - val_loss: 0.2312 - val_accuracy: 0.9258\n",
            "Epoch 69/2000\n",
            "2000/2000 [==============================] - 3s 1ms/step - loss: 0.1591 - accuracy: 0.9447 - val_loss: 0.2065 - val_accuracy: 0.9392\n",
            "Epoch 70/2000\n",
            "2000/2000 [==============================] - 3s 1ms/step - loss: 0.1622 - accuracy: 0.9453 - val_loss: 0.2348 - val_accuracy: 0.9317\n",
            "Epoch 71/2000\n",
            "2000/2000 [==============================] - 3s 1ms/step - loss: 0.1630 - accuracy: 0.9452 - val_loss: 0.2469 - val_accuracy: 0.9235\n",
            "Epoch 72/2000\n",
            "2000/2000 [==============================] - 3s 2ms/step - loss: 0.1567 - accuracy: 0.9461 - val_loss: 0.2117 - val_accuracy: 0.9275\n",
            "Epoch 73/2000\n",
            "2000/2000 [==============================] - 2s 1ms/step - loss: 0.1590 - accuracy: 0.9474 - val_loss: 0.2040 - val_accuracy: 0.9348\n",
            "Epoch 74/2000\n",
            "2000/2000 [==============================] - 3s 1ms/step - loss: 0.1561 - accuracy: 0.9464 - val_loss: 0.2338 - val_accuracy: 0.9298\n",
            "Epoch 75/2000\n",
            "2000/2000 [==============================] - 3s 1ms/step - loss: 0.1527 - accuracy: 0.9481 - val_loss: 0.3054 - val_accuracy: 0.9100\n",
            "Epoch 76/2000\n",
            "2000/2000 [==============================] - 3s 2ms/step - loss: 0.1575 - accuracy: 0.9466 - val_loss: 0.2075 - val_accuracy: 0.9358\n",
            "Epoch 77/2000\n",
            "2000/2000 [==============================] - 3s 1ms/step - loss: 0.1524 - accuracy: 0.9492 - val_loss: 0.2462 - val_accuracy: 0.9268\n",
            "Epoch 78/2000\n",
            "2000/2000 [==============================] - 3s 1ms/step - loss: 0.1524 - accuracy: 0.9489 - val_loss: 0.2259 - val_accuracy: 0.9277\n",
            "Epoch 79/2000\n",
            "2000/2000 [==============================] - 3s 1ms/step - loss: 0.1451 - accuracy: 0.9497 - val_loss: 0.2020 - val_accuracy: 0.9350\n",
            "Epoch 80/2000\n",
            "2000/2000 [==============================] - 3s 2ms/step - loss: 0.1481 - accuracy: 0.9497 - val_loss: 0.2193 - val_accuracy: 0.9317\n",
            "Epoch 81/2000\n",
            "2000/2000 [==============================] - 3s 1ms/step - loss: 0.1454 - accuracy: 0.9496 - val_loss: 0.2245 - val_accuracy: 0.9352\n",
            "Epoch 82/2000\n",
            "2000/2000 [==============================] - 3s 1ms/step - loss: 0.1429 - accuracy: 0.9502 - val_loss: 0.2367 - val_accuracy: 0.9305\n",
            "Epoch 83/2000\n",
            "2000/2000 [==============================] - 3s 1ms/step - loss: 0.1516 - accuracy: 0.9482 - val_loss: 0.2498 - val_accuracy: 0.9273\n",
            "Epoch 84/2000\n",
            "2000/2000 [==============================] - 3s 2ms/step - loss: 0.1378 - accuracy: 0.9539 - val_loss: 0.2161 - val_accuracy: 0.9352\n",
            "Epoch 85/2000\n",
            "2000/2000 [==============================] - 3s 1ms/step - loss: 0.1405 - accuracy: 0.9507 - val_loss: 0.2514 - val_accuracy: 0.9265\n",
            "Epoch 86/2000\n",
            "2000/2000 [==============================] - 3s 1ms/step - loss: 0.1439 - accuracy: 0.9494 - val_loss: 0.2075 - val_accuracy: 0.9370\n",
            "Epoch 87/2000\n",
            "2000/2000 [==============================] - 3s 1ms/step - loss: 0.1384 - accuracy: 0.9527 - val_loss: 0.1992 - val_accuracy: 0.9390\n",
            "Epoch 88/2000\n",
            "2000/2000 [==============================] - 3s 1ms/step - loss: 0.1419 - accuracy: 0.9525 - val_loss: 0.2004 - val_accuracy: 0.9398\n",
            "Epoch 89/2000\n",
            "2000/2000 [==============================] - 3s 2ms/step - loss: 0.1425 - accuracy: 0.9512 - val_loss: 0.2403 - val_accuracy: 0.9290\n",
            "Epoch 90/2000\n",
            "2000/2000 [==============================] - 3s 1ms/step - loss: 0.1403 - accuracy: 0.9519 - val_loss: 0.2483 - val_accuracy: 0.9345\n",
            "Epoch 91/2000\n",
            "2000/2000 [==============================] - 3s 1ms/step - loss: 0.1386 - accuracy: 0.9516 - val_loss: 0.2355 - val_accuracy: 0.9283\n",
            "Epoch 92/2000\n",
            "2000/2000 [==============================] - 3s 1ms/step - loss: 0.1406 - accuracy: 0.9518 - val_loss: 0.2739 - val_accuracy: 0.9247\n",
            "Epoch 93/2000\n",
            "2000/2000 [==============================] - 3s 2ms/step - loss: 0.1384 - accuracy: 0.9542 - val_loss: 0.2447 - val_accuracy: 0.9333\n",
            "Epoch 94/2000\n",
            "2000/2000 [==============================] - 3s 1ms/step - loss: 0.1414 - accuracy: 0.9528 - val_loss: 0.2149 - val_accuracy: 0.9380\n",
            "Epoch 95/2000\n",
            "2000/2000 [==============================] - 3s 1ms/step - loss: 0.1298 - accuracy: 0.9568 - val_loss: 0.2167 - val_accuracy: 0.9362\n",
            "Epoch 96/2000\n",
            "2000/2000 [==============================] - 3s 1ms/step - loss: 0.1358 - accuracy: 0.9521 - val_loss: 0.2441 - val_accuracy: 0.9280\n",
            "Epoch 97/2000\n",
            "2000/2000 [==============================] - 3s 2ms/step - loss: 0.1361 - accuracy: 0.9541 - val_loss: 0.2490 - val_accuracy: 0.9298\n",
            "Epoch 98/2000\n",
            "2000/2000 [==============================] - 3s 1ms/step - loss: 0.1336 - accuracy: 0.9550 - val_loss: 0.2322 - val_accuracy: 0.9373\n",
            "Epoch 99/2000\n",
            "2000/2000 [==============================] - 3s 1ms/step - loss: 0.1268 - accuracy: 0.9569 - val_loss: 0.2564 - val_accuracy: 0.9283\n",
            "Epoch 100/2000\n",
            "2000/2000 [==============================] - 3s 1ms/step - loss: 0.1348 - accuracy: 0.9546 - val_loss: 0.2831 - val_accuracy: 0.9262\n",
            "Epoch 101/2000\n",
            "2000/2000 [==============================] - 3s 1ms/step - loss: 0.1341 - accuracy: 0.9545 - val_loss: 0.2964 - val_accuracy: 0.9233\n",
            "Epoch 102/2000\n",
            "2000/2000 [==============================] - 3s 1ms/step - loss: 0.1234 - accuracy: 0.9579 - val_loss: 0.2241 - val_accuracy: 0.9348\n",
            "Epoch 103/2000\n",
            "2000/2000 [==============================] - 3s 1ms/step - loss: 0.1334 - accuracy: 0.9539 - val_loss: 0.2363 - val_accuracy: 0.9388\n",
            "Epoch 104/2000\n",
            "2000/2000 [==============================] - 3s 1ms/step - loss: 0.1242 - accuracy: 0.9576 - val_loss: 0.2154 - val_accuracy: 0.9388\n",
            "Epoch 105/2000\n",
            "2000/2000 [==============================] - 3s 1ms/step - loss: 0.1386 - accuracy: 0.9539 - val_loss: 0.2570 - val_accuracy: 0.9310\n",
            "Epoch 106/2000\n",
            "2000/2000 [==============================] - 3s 2ms/step - loss: 0.1244 - accuracy: 0.9585 - val_loss: 0.3040 - val_accuracy: 0.9225\n",
            "Epoch 107/2000\n",
            "2000/2000 [==============================] - 3s 1ms/step - loss: 0.1351 - accuracy: 0.9539 - val_loss: 0.2349 - val_accuracy: 0.9350\n"
          ]
        }
      ]
    },
    {
      "cell_type": "code",
      "source": [
        "def plot_metric(history, train_metric, val_metric, title):\n",
        "    epochs = range(1, len(history.history[train_metric]) + 1)\n",
        "    plt.plot(epochs, history.history[train_metric], 'g', label=f'Training {train_metric}')\n",
        "    plt.plot(epochs, history.history[val_metric], 'b', label=f'Validation {val_metric}')\n",
        "    plt.title(title)\n",
        "    plt.xlabel('Epochs')\n",
        "    plt.ylabel('Loss')\n",
        "    plt.legend()\n",
        "    plt.show()"
      ],
      "metadata": {
        "id": "DX8l2TELvuEn"
      },
      "execution_count": 14,
      "outputs": []
    },
    {
      "cell_type": "code",
      "source": [
        "# Visualize the training and validation loss metrices.\n",
        "plot_metric( ann_model, 'loss', 'val_loss', 'Total Loss vs Total Validation Loss')"
      ],
      "metadata": {
        "colab": {
          "base_uri": "https://localhost:8080/",
          "height": 472
        },
        "id": "5N90mxSpv_m8",
        "outputId": "d815f750-6762-45dd-8acc-a11625df2dae"
      },
      "execution_count": 15,
      "outputs": [
        {
          "output_type": "display_data",
          "data": {
            "text/plain": [
              "<Figure size 640x480 with 1 Axes>"
            ],
            "image/png": "[encoded data removed]"
          },
          "metadata": {}
        }
      ]
    },
    {
      "cell_type": "code",
      "source": [
        "# Visualize the training and validation accuracy metrices.\n",
        "plot_metric(ann_model, 'accuracy', 'val_accuracy', 'Total Accuracy vs Total Validation Accuracy')"
      ],
      "metadata": {
        "colab": {
          "base_uri": "https://localhost:8080/",
          "height": 472
        },
        "id": "XMTAO_S1wCkZ",
        "outputId": "a8cbf182-c7cc-490b-c21f-a661b6240621"
      },
      "execution_count": 16,
      "outputs": [
        {
          "output_type": "display_data",
          "data": {
            "text/plain": [
              "<Figure size 640x480 with 1 Axes>"
            ],
            "image/png": "[encoded data removed]"
          },
          "metadata": {}
        }
      ]
    },
    {
      "cell_type": "code",
      "source": [
        "# One-hot encode the labels for y_test\n",
        "# y_test_one_hot = tf.keras.utils.to_categorical(y_test, num_classes=12)\n",
        "\n",
        "# Evaluate the model\n",
        "loss, accuracy = model.evaluate(X_test, y_test)\n",
        "print(f'Test Loss: {loss:.4f}')\n",
        "print(f'Test Accuracy: {accuracy:.4f}')\n",
        "\n"
      ],
      "metadata": {
        "colab": {
          "base_uri": "https://localhost:8080/"
        },
        "id": "MWz401AywE8J",
        "outputId": "df9d3310-1570-4438-dc67-712338818406"
      },
      "execution_count": 17,
      "outputs": [
        {
          "output_type": "stream",
          "name": "stdout",
          "text": [
            "125/125 [==============================] - 0s 960us/step - loss: 0.1992 - accuracy: 0.9390\n",
            "Test Loss: 0.1992\n",
            "Test Accuracy: 0.9390\n"
          ]
        }
      ]
    },
    {
      "cell_type": "code",
      "source": [
        "# Predicting the Test set results\n",
        "y_pred = model.predict(X_test)\n",
        "y_pred = (y_pred > 0.5)\n",
        "y_pred"
      ],
      "metadata": {
        "colab": {
          "base_uri": "https://localhost:8080/"
        },
        "id": "UezSk9efwQAL",
        "outputId": "639e1d31-a250-4cbb-cfa7-6888995b3517"
      },
      "execution_count": 18,
      "outputs": [
        {
          "output_type": "stream",
          "name": "stdout",
          "text": [
            "125/125 [==============================] - 0s 873us/step\n"
          ]
        },
        {
          "output_type": "execute_result",
          "data": {
            "text/plain": [
              "array([[False, False, False, ..., False, False, False],\n",
              "       [False, False, False, ..., False, False, False],\n",
              "       [False, False, False, ..., False, False, False],\n",
              "       ...,\n",
              "       [False, False, False, ...,  True, False, False],\n",
              "       [False, False, False, ..., False, False, False],\n",
              "       [False, False, False, ..., False, False, False]])"
            ]
          },
          "metadata": {},
          "execution_count": 18
        }
      ]
    },
    {
      "cell_type": "code",
      "source": [
        "# Predicting the Test set results\n",
        "y_pred = model.predict(X_test)\n",
        "y_pred = (y_pred > 0.5)\n",
        "y_pred"
      ],
      "metadata": {
        "colab": {
          "base_uri": "https://localhost:8080/"
        },
        "id": "emtnPWHnwS-a",
        "outputId": "5b25b4ec-9bc2-4de3-cc37-a18f1baeba4e"
      },
      "execution_count": 30,
      "outputs": [
        {
          "output_type": "stream",
          "name": "stdout",
          "text": [
            "125/125 [==============================] - 0s 1ms/step\n"
          ]
        },
        {
          "output_type": "execute_result",
          "data": {
            "text/plain": [
              "array([[False, False, False, ..., False, False, False],\n",
              "       [False, False, False, ..., False, False, False],\n",
              "       [False,  True, False, ..., False, False, False],\n",
              "       ...,\n",
              "       [False, False, False, ...,  True, False, False],\n",
              "       [False, False, False, ..., False, False, False],\n",
              "       [False, False, False, ..., False, False, False]])"
            ]
          },
          "metadata": {},
          "execution_count": 30
        }
      ]
    },
    {
      "cell_type": "code",
      "source": [
        "from sklearn.metrics import confusion_matrix\n",
        "\n",
        "# Assuming y_pred is in one-hot encoded format, convert it to integer class labels\n",
        "y_pred_labels = np.argmax(y_pred, axis=1)\n",
        "\n",
        "# Now, you can compute the confusion matrix\n",
        "cm = confusion_matrix(y_test, y_pred_labels)\n",
        "print(cm)\n"
      ],
      "metadata": {
        "colab": {
          "base_uri": "https://localhost:8080/"
        },
        "id": "IoU7sSojwJSR",
        "outputId": "5262cb29-e860-4889-8277-eeee5581fe58"
      },
      "execution_count": 19,
      "outputs": [
        {
          "output_type": "stream",
          "name": "stdout",
          "text": [
            "[[156   0   1   1   0   0   0   0   0   0   0   0   0   0   0   0   0   0\n",
            "    0   0   0   0   0   0   0   0]\n",
            " [  5 134   0   0   0   0   0   2   1   0   2   0   0   1   0   0   0   3\n",
            "    4   0   0   1   0   0   0   0]\n",
            " [  1   0 144   0   0   1   1   0   0   0   0   0   0   0   0   0   0   0\n",
            "    0   0   0   0   0   0   0   0]\n",
            " [  5   2   0 143   0   0   1   5   0   0   1   0   0   1   0   0   0   0\n",
            "    1   1   0   0   0   0   1   0]\n",
            " [  1   2   0   0 145   0   0   0   0   0   0   1   0   0   0   0   1   1\n",
            "    0   0   0   0   0   2   0   1]\n",
            " [  0   0   0   0   0 151   0   1   3   0   0   0   0   0   0   0   0   0\n",
            "    0   0   0   0   0   0   0   0]\n",
            " [  7   0   3   0   9   2 127   0   0   0   2   3   0   0   0   1   0   0\n",
            "    0   0   0   0   1   0   0   0]\n",
            " [  3   2   0   2   0   0   0 129   0   0   1   0   0   4   0   1   0   4\n",
            "    0   1   0   0   0   0   0   0]\n",
            " [  1   1   0   0   0   0   0   0 140   8   0   0   0   0   0   0   0   0\n",
            "    0   0   0   0   0   1   0   0]\n",
            " [  1   0   0   0   0   0   0   0   7 138   0   0   0   2   0   0   0   0\n",
            "    1   0   0   0   0   0   0   0]\n",
            " [  0   0   0   0   0   0   0   2   0   0 137   2   0   0   0   0   0   1\n",
            "    0   1   1   0   0   4   0   0]\n",
            " [  0   0   0   0   1   0   1   0   1   0   0 145   0   0   0   0   0   1\n",
            "    1   1   0   0   0   1   0   0]\n",
            " [  1   0   0   0   0   0   1   0   0   0   0   0 154   0   1   0   0   0\n",
            "    0   0   0   0   1   0   0   0]\n",
            " [  2   0   0   0   0   0   0   2   0   0   0   0   0 148   3   0   0   1\n",
            "    0   0   0   0   1   0   0   0]\n",
            " [  0   0   1   2   0   0   1   0   0   0   0   0   1   0 139   0   4   0\n",
            "    0   0   0   0   2   0   0   0]\n",
            " [  1   0   0   0   0   9   0   0   0   0   0   0   0   0   0 150   0   0\n",
            "    1   0   0   0   0   0   0   0]\n",
            " [  4   1   0   0   0   0   1   0   0   0   0   1   0   0   1   1 145   0\n",
            "    0   0   0   0   0   2   0   1]\n",
            " [  5   3   0   1   0   1   0   4   0   0   0   0   0   4   0   0   0 133\n",
            "    1   0   0   0   0   0   0   0]\n",
            " [  2   0   0   0   1   0   0   0   0   0   0   0   0   0   0   0   0   0\n",
            "  144   0   0   0   0   0   0   2]\n",
            " [  4   0   0   0   1   1   0   0   0   0   0   1   0   0   0   2   0   0\n",
            "    0 145   1   0   0   0   4   0]\n",
            " [  4   0   2   1   0   0   0   0   0   0   1   0   0   0   2   0   0   1\n",
            "    0   0 152   0   0   0   0   0]\n",
            " [  3   2   0   0   0   0   1   0   0   0   0   0   0   1   0   0   0   0\n",
            "    0   0   0 143   1   0   2   0]\n",
            " [  1   0   0   0   0   0   0   0   0   0   0   0   1   0   0   0   0   0\n",
            "    0   0   0   0 148   0   0   0]\n",
            " [  1   0   0   0   2   0   1   0   0   0   1   0   0   0   0   0   0   0\n",
            "    1   0   0   0   0 151   0   0]\n",
            " [  1   0   0   0   0   1   0   0   0   0   0   0   0   0   0   0   0   0\n",
            "    1   1   0   1   0   0 152   0]\n",
            " [  0   0   0   0   2   0   0   0   1   0   0   0   0   0   0   0   0   0\n",
            "    1   0   0   0   0   0   0 143]]\n"
          ]
        }
      ]
    },
    {
      "cell_type": "code",
      "source": [
        "# Create a figure and axis\n",
        "plt.figure(figsize=(8, 6))\n",
        "ax = sns.heatmap(cm, annot=True, cmap='RdYlGn', linewidths=0.1, annot_kws={'size': 6})\n",
        "\n",
        "# Fix the heatmap cutoff issue\n",
        "bottom, top = ax.get_ylim()\n",
        "ax.set_ylim(bottom + 0.5, top - 0.5)\n",
        "\n",
        "# Set axis labels and titles\n",
        "ax.set_xlabel('Predicted Labels', fontsize=15)\n",
        "ax.set_ylabel('True Labels', fontsize=15)\n",
        "ax.set_title('Confusion Matrix', fontsize=2)\n",
        "\n",
        "# Set tick labels font size\n",
        "plt.xticks(fontsize=12)\n",
        "plt.yticks(fontsize=12)\n",
        "\n",
        "# Show the heatmap\n",
        "plt.show()\n"
      ],
      "metadata": {
        "colab": {
          "base_uri": "https://localhost:8080/",
          "height": 563
        },
        "id": "LdxqNaz3wWNk",
        "outputId": "8976bfc5-cae5-4ce5-d48d-a3d4cd908a51"
      },
      "execution_count": 23,
      "outputs": [
        {
          "output_type": "display_data",
          "data": {
            "text/plain": [
              "<Figure size 800x600 with 2 Axes>"
            ],
            "image/png": "[encoded data removed]"
          },
          "metadata": {}
        }
      ]
    },
    {
      "cell_type": "code",
      "source": [
        "# Implement 5-fold cross-validation for the test set\n",
        "skf = StratifiedKFold(n_splits=5, shuffle=True, random_state=42)\n",
        "\n",
        "test_losses = []\n",
        "test_accuracies = []\n",
        "\n",
        "for train_index, test_index in skf.split(X_test, y_test):\n",
        "    X_test_fold, X_val_fold = X_test[train_index], X_test[test_index]\n",
        "    y_test_fold, y_val_fold = y_test[train_index], y_test[test_index]\n",
        "\n",
        "    # Evaluate the model on the current test fold\n",
        "    loss, accuracy = model.evaluate(X_test_fold, y_test_fold, verbose=0)\n",
        "    print(f'Test Loss (Fold): {loss:.4f}')\n",
        "    print(f'Test Accuracy (Fold): {accuracy:.4f}')\n",
        "\n",
        "    test_losses.append(loss)\n",
        "    test_accuracies.append(accuracy)\n",
        "\n",
        "# Average test metrics over all folds\n",
        "average_test_loss = np.mean(test_losses)\n",
        "average_test_accuracy = np.mean(test_accuracies)\n",
        "\n",
        "print(f'\\nAverage Test Loss over 5 Folds: {average_test_loss:.4f}')\n",
        "print(f'Average Test Accuracy over 5 Folds: {average_test_accuracy:.4f}')"
      ],
      "metadata": {
        "colab": {
          "base_uri": "https://localhost:8080/"
        },
        "id": "EEExUwP2HRue",
        "outputId": "71bac0bb-f15a-4df7-b827-9189cef7230d"
      },
      "execution_count": 24,
      "outputs": [
        {
          "output_type": "stream",
          "name": "stdout",
          "text": [
            "Test Loss (Fold): 0.2029\n",
            "Test Accuracy (Fold): 0.9391\n",
            "Test Loss (Fold): 0.1896\n",
            "Test Accuracy (Fold): 0.9394\n",
            "Test Loss (Fold): 0.2023\n",
            "Test Accuracy (Fold): 0.9372\n",
            "Test Loss (Fold): 0.1917\n",
            "Test Accuracy (Fold): 0.9409\n",
            "Test Loss (Fold): 0.2092\n",
            "Test Accuracy (Fold): 0.9384\n",
            "\n",
            "Average Test Loss over 5 Folds: 0.1992\n",
            "Average Test Accuracy over 5 Folds: 0.9390\n"
          ]
        }
      ]
    }
  ]
}